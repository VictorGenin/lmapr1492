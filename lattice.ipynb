{
 "cells": [
  {
   "cell_type": "code",
   "execution_count": 49,
   "metadata": {},
   "outputs": [
    {
     "name": "stdout",
     "output_type": "stream",
     "text": [
      "Les vecteurs de base du réseau du Te sont:\n",
      "[4.51237418 0.         0.        ] [-2.25618709  3.90783067  0.        ] [0.         0.         5.95989883]\n",
      "Le vecteur a a donc une longueur de 4.51237418 Å, le b de 4.512374178907963 Å et le c de 5.95989883 Å\n",
      "Les angles alpha, beta et gamma du réseau cristallin sont, en degrés 90.0 90.0 120.0000000080056\n",
      "On peut donc calculer le réseau réciproque, il nous faut pour cela le volume de la maille du réseau direct\n",
      "Volume= 105.09443753138906 Å³\n",
      "[ 0.         -0.          0.16778808]\n"
     ]
    }
   ],
   "source": [
    "from pymatgen.ext.matproj import MPRester\n",
    "from pymatgen.io.cif import CifWriter\n",
    "from pymatgen.core import lattice\n",
    "import numpy as np\n",
    "#On va chercher les infos sur le MP avec notre API\n",
    "with MPRester(\"AmIEJp5xndflZHbo32t\") as m:\n",
    "    # On obtient la structure de l'élément depuis le MP\n",
    "    structure = m.get_structure_by_material_id(\"mp-19\")\n",
    "    # On crée un CifWriter avec la structure obtenue\n",
    "    writer = CifWriter(structure)\n",
    "    # Et on crée le fichier CIF grâce au writer\n",
    "    writer.write_file('Te.cif')\n",
    "    telattice=structure.lattice\n",
    "    print(\"Les vecteurs de base du réseau du Te sont:\")\n",
    "    a=telattice.matrix[0]\n",
    "    b=telattice.matrix[1]\n",
    "    c=telattice.matrix[2]\n",
    "    print(a,b,c)\n",
    "    print(\"Le vecteur a a donc une longueur de 4.51237418 Å, le b de\",telattice.b,\"Å et le c de 5.95989883 Å\")\n",
    "    alpha=telattice.alpha\n",
    "    beta=telattice.beta\n",
    "    gamma=telattice.gamma\n",
    "    print(\"Les angles alpha, beta et gamma du réseau cristallin sont, en degrés\", alpha, beta, gamma)\n",
    "    print(\"On peut donc calculer le réseau réciproque, il nous faut pour cela le volume de la maille du réseau direct\")\n",
    "    volume=telattice.volume\n",
    "    print(\"Volume=\", volume, \"Å³\")\n",
    "    \n",
    "    \n",
    "\n",
    "    \n",
    "    \n",
    "    "
   ]
  },
  {
   "cell_type": "code",
   "execution_count": 43,
   "metadata": {},
   "outputs": [
    {
     "data": {
      "text/plain": [
       "Lattice\n",
       "    abc : 1.6078448213978005 1.6078448217869137 1.0542436182896726\n",
       " angles : 90.0 90.0 59.9999999919944\n",
       " volume : 2.3602601552371616\n",
       "      A : 1.3924344605614214 0.8039224108934568 0.0\n",
       "      B : 0.0 1.6078448217869137 0.0\n",
       "      C : 0.0 0.0 1.0542436182896726"
      ]
     },
     "execution_count": 43,
     "metadata": {},
     "output_type": "execute_result"
    }
   ],
   "source": [
    "reciproque"
   ]
  },
  {
   "cell_type": "code",
   "execution_count": null,
   "metadata": {},
   "outputs": [],
   "source": []
  }
 ],
 "metadata": {
  "kernelspec": {
   "display_name": "Python 3",
   "language": "python",
   "name": "python3"
  },
  "language_info": {
   "codemirror_mode": {
    "name": "ipython",
    "version": 3
   },
   "file_extension": ".py",
   "mimetype": "text/x-python",
   "name": "python",
   "nbconvert_exporter": "python",
   "pygments_lexer": "ipython3",
   "version": "3.6.8"
  }
 },
 "nbformat": 4,
 "nbformat_minor": 2
}
