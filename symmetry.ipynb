{
 "cells": [
  {
   "cell_type": "code",
   "execution_count": 124,
   "metadata": {},
   "outputs": [
    {
     "data": {
      "text/plain": [
       "Structure Summary\n",
       "Lattice\n",
       "    abc : 4.51237418 4.512374178907963 5.95989883\n",
       " angles : 90.0 90.0 120.0000000080056\n",
       " volume : 105.09443753138906\n",
       "      A : 4.51237418 0.0 0.0\n",
       "      B : -2.25618709 3.90783067 0.0\n",
       "      C : 0.0 0.0 5.95989883\n",
       "PeriodicSite: Te (1.2136, 0.0000, 1.9866) [0.2690, 0.0000, 0.3333]\n",
       "PeriodicSite: Te (-0.6068, 1.0510, 3.9733) [0.0000, 0.2690, 0.6667]\n",
       "PeriodicSite: Te (1.6494, 2.8568, 0.0000) [0.7310, 0.7310, 0.0000]"
      ]
     },
     "metadata": {},
     "output_type": "display_data"
    },
    {
     "name": "stdout",
     "output_type": "stream",
     "text": [
      "On a donc les 3 différents atomes dont nous allons parler qui ont pour coordonnées [[0.269  0.     0.3333]] [[0.     0.269  0.6667]] [[0.731 0.731 0.   ]]\n"
     ]
    }
   ],
   "source": [
    "from pymatgen.ext.matproj import MPRester\n",
    "from pymatgen.core import lattice\n",
    "from pymatgen.symmetry.structure import SymmetrizedStructure as ss\n",
    "import matplotlib.image as mpimg\n",
    "import matplotlib.pyplot as plt\n",
    "import numpy as np\n",
    "import pymatgen.symmetry.analyzer as an\n",
    "#On va chercher les infos sur le MP avec notre API\n",
    "with MPRester(\"AmIEJp5xndflZHbo32t\") as m:\n",
    "    # On obtient la structure de l'élément depuis le MP\n",
    "    structure = m.get_structure_by_material_id(\"mp-19\")\n",
    "    display(structure)\n",
    "    atome1=np.array([[0.2690, 0.0000, 0.3333]])\n",
    "    atome2=np.array([[0.0000, 0.2690, 0.6667]])\n",
    "    atome3=np.array([[0.7310, 0.7310, 0.0000]])\n",
    "    print(\"On a donc les 3 différents atomes dont nous allons parler qui ont pour coordonnées\",atome1,atome2,atome3)\n",
    "    #On va chercher les outils\n",
    "    analyse=an.SpacegroupAnalyzer(structure)\n",
    "    symm=analyse.get_symmetry_operations()\n",
    "    symetrie_1=symm[1]\n",
    "    symetrie_2=symm[3]\n",
    "    symetrie_3=symm[5]"
   ]
  },
  {
   "cell_type": "markdown",
   "metadata": {},
   "source": [
    "Nous allons donc expliciter 3 symétries dans la maille du Tellure. La première est une rotation hélicoïdale autour de l'axe C"
   ]
  },
  {
   "cell_type": "code",
   "execution_count": 145,
   "metadata": {},
   "outputs": [
    {
     "name": "stdout",
     "output_type": "stream",
     "text": [
      "Prenons tout d'abord l'atome situé en [[0.269  0.     0.3333]]\n",
      "A x,y,z doivent correspondre -y, x-y, z+1/3 , on a donc comme matrice de rotation\n",
      "[[ 0. -1.  0.]\n",
      " [ 1. -1.  0.]\n",
      " [ 0.  0.  1.]] \n",
      "et vecteur de translation\n",
      " [0.         0.         0.33333333]\n",
      "En effectuant le produit matriciel et en y ajoutant le vecteur de translation on obtient \n",
      "[[0.        ]\n",
      " [0.269     ]\n",
      " [0.66663333]]\n",
      "Ce qui correspond bien à  [0.         0.269      0.66663333] donné par la fonction operate\n",
      "Celà se représente comme ceci:\n"
     ]
    },
    {
     "ename": "NameError",
     "evalue": "name 'mpimg' is not defined",
     "output_type": "error",
     "traceback": [
      "\u001b[0;31m---------------------------------------------------------------------------\u001b[0m",
      "\u001b[0;31mNameError\u001b[0m                                 Traceback (most recent call last)",
      "\u001b[0;32m<ipython-input-145-262033feb3e6>\u001b[0m in \u001b[0;36m<module>\u001b[0;34m\u001b[0m\n\u001b[1;32m      6\u001b[0m \u001b[0mprint\u001b[0m\u001b[0;34m(\u001b[0m\u001b[0;34m\"Ce qui correspond bien à \"\u001b[0m\u001b[0;34m,\u001b[0m\u001b[0msymetrie_1\u001b[0m\u001b[0;34m.\u001b[0m\u001b[0moperate\u001b[0m\u001b[0;34m(\u001b[0m\u001b[0;34m(\u001b[0m\u001b[0;36m0.269\u001b[0m\u001b[0;34m,\u001b[0m\u001b[0;36m0\u001b[0m\u001b[0;34m,\u001b[0m\u001b[0;36m0.3333\u001b[0m\u001b[0;34m)\u001b[0m\u001b[0;34m)\u001b[0m\u001b[0;34m,\u001b[0m\u001b[0;34m\"donné par la fonction operate\"\u001b[0m\u001b[0;34m)\u001b[0m\u001b[0;34m\u001b[0m\u001b[0;34m\u001b[0m\u001b[0m\n\u001b[1;32m      7\u001b[0m \u001b[0mprint\u001b[0m\u001b[0;34m(\u001b[0m\u001b[0;34m\"Celà se représente comme ceci:\"\u001b[0m\u001b[0;34m)\u001b[0m\u001b[0;34m\u001b[0m\u001b[0;34m\u001b[0m\u001b[0m\n\u001b[0;32m----> 8\u001b[0;31m \u001b[0mimg\u001b[0m \u001b[0;34m=\u001b[0m \u001b[0mmpimg\u001b[0m\u001b[0;34m.\u001b[0m\u001b[0mimread\u001b[0m\u001b[0;34m(\u001b[0m\u001b[0;34m\"image1.png\"\u001b[0m\u001b[0;34m)\u001b[0m\u001b[0;34m\u001b[0m\u001b[0;34m\u001b[0m\u001b[0m\n\u001b[0m\u001b[1;32m      9\u001b[0m \u001b[0mplt\u001b[0m\u001b[0;34m.\u001b[0m\u001b[0mimshow\u001b[0m\u001b[0;34m(\u001b[0m\u001b[0mimg\u001b[0m\u001b[0;34m)\u001b[0m\u001b[0;34m\u001b[0m\u001b[0;34m\u001b[0m\u001b[0m\n\u001b[1;32m     10\u001b[0m \u001b[0mplt\u001b[0m\u001b[0;34m.\u001b[0m\u001b[0mshow\u001b[0m\u001b[0;34m(\u001b[0m\u001b[0;34m)\u001b[0m\u001b[0;34m\u001b[0m\u001b[0;34m\u001b[0m\u001b[0m\n",
      "\u001b[0;31mNameError\u001b[0m: name 'mpimg' is not defined"
     ]
    }
   ],
   "source": [
    "print(\"Prenons tout d'abord l'atome situé en\",atome1)\n",
    "print(\"A x,y,z doivent correspondre\",symetrie_1.as_xyz_string(),\", on a donc comme matrice de rotation\")\n",
    "print(symetrie_1.rotation_matrix,\"\\net vecteur de translation\\n\",symetrie_1.translation_vector)\n",
    "print(\"En effectuant le produit matriciel et en y ajoutant le vecteur de translation on obtient \")\n",
    "print(np.dot(symetrie_1.rotation_matrix,atome1.T)+(np.array([symetrie_1.translation_vector])).T)\n",
    "print(\"Ce qui correspond bien à \",symetrie_1.operate((0.269,0,0.3333)),\"donné par la fonction operate\")\n",
    "print(\"Celà se représente comme ceci:\")\n",
    "img = mpimg.imread(\"image1.png\")\n",
    "plt.imshow(img)\n",
    "plt.show()\n"
   ]
  },
  {
   "cell_type": "code",
   "execution_count": 128,
   "metadata": {},
   "outputs": [
    {
     "name": "stdout",
     "output_type": "stream",
     "text": [
      "Pour la deuxième symétrie, nous regarderons l'atome situé en [[0.     0.269  0.6667]]\n",
      "A x,y,z doivent correspondre y, x, -z , on a donc comme matrice de rotation\n",
      "[[ 0.  1.  0.]\n",
      " [ 1.  0.  0.]\n",
      " [ 0.  0. -1.]] \n",
      "et vecteur de translation\n",
      " [0. 0. 0.]\n",
      "En effectuant le produit matriciel et en y ajoutant le vecteur de translation on obtient \n",
      "[[ 0.269 ]\n",
      " [ 0.    ]\n",
      " [-0.6667]]\n",
      "Ce qui correspond bien à  [ 0.269   0.     -0.6667] donné par la fonction operate\n"
     ]
    }
   ],
   "source": [
    "print(\"Pour la deuxième symétrie, nous regarderons l'atome situé en\",atome2)\n",
    "print(\"A x,y,z doivent correspondre\",symetrie_2.as_xyz_string(),\", on a donc comme matrice de rotation\")\n",
    "print(symetrie_2.rotation_matrix,\"\\net vecteur de translation\\n\",symetrie_2.translation_vector)\n",
    "print(\"En effectuant le produit matriciel et en y ajoutant le vecteur de translation on obtient \")\n",
    "print(np.dot(symetrie_2.rotation_matrix,atome2.T))\n",
    "print(\"Ce qui correspond bien à \",symetrie_2.operate((0,0.269,0.6667)),\"donné par la fonction operate\")\n",
    "print(\"Celà se représente comme ceci:\")\n",
    "img = mpimg.imread(\"monimage.png\")\n",
    "plt.imshow(img)\n",
    "plt.show()"
   ]
  },
  {
   "cell_type": "code",
   "execution_count": 144,
   "metadata": {},
   "outputs": [
    {
     "name": "stdout",
     "output_type": "stream",
     "text": [
      "Pour la dernière symétrie, nous regarderons l'atome situé en [[0.731 0.731 0.   ]]\n",
      "A x,y,z doivent correspondre -x, -x+y, -z+1/3 , on a donc comme matrice de rotation\n",
      "[[-1.  0.  0.]\n",
      " [-1.  1.  0.]\n",
      " [ 0.  0. -1.]] \n",
      "et vecteur de translation\n",
      " [0.         0.         0.33333333]\n",
      "En effectuant le produit matriciel et en y ajoutant le vecteur de translation on obtient \n",
      "[[-0.731     ]\n",
      " [ 0.        ]\n",
      " [ 0.33333333]]\n",
      "Ce qui correspond bien à  [-0.731       0.          0.33333333] donné par la fonction operate\n",
      "Celà se représente comme ceci:\n"
     ]
    },
    {
     "ename": "NameError",
     "evalue": "name 'mpimg' is not defined",
     "output_type": "error",
     "traceback": [
      "\u001b[0;31m---------------------------------------------------------------------------\u001b[0m",
      "\u001b[0;31mNameError\u001b[0m                                 Traceback (most recent call last)",
      "\u001b[0;32m<ipython-input-144-1a7bb5ecc177>\u001b[0m in \u001b[0;36m<module>\u001b[0;34m\u001b[0m\n\u001b[1;32m      6\u001b[0m \u001b[0mprint\u001b[0m\u001b[0;34m(\u001b[0m\u001b[0;34m\"Ce qui correspond bien à \"\u001b[0m\u001b[0;34m,\u001b[0m\u001b[0msymetrie_3\u001b[0m\u001b[0;34m.\u001b[0m\u001b[0moperate\u001b[0m\u001b[0;34m(\u001b[0m\u001b[0;34m(\u001b[0m\u001b[0;36m0.731\u001b[0m\u001b[0;34m,\u001b[0m\u001b[0;36m0.731\u001b[0m\u001b[0;34m,\u001b[0m\u001b[0;36m0\u001b[0m\u001b[0;34m)\u001b[0m\u001b[0;34m)\u001b[0m\u001b[0;34m,\u001b[0m\u001b[0;34m\"donné par la fonction operate\"\u001b[0m\u001b[0;34m)\u001b[0m\u001b[0;34m\u001b[0m\u001b[0;34m\u001b[0m\u001b[0m\n\u001b[1;32m      7\u001b[0m \u001b[0mprint\u001b[0m\u001b[0;34m(\u001b[0m\u001b[0;34m\"Celà se représente comme ceci:\"\u001b[0m\u001b[0;34m)\u001b[0m\u001b[0;34m\u001b[0m\u001b[0;34m\u001b[0m\u001b[0m\n\u001b[0;32m----> 8\u001b[0;31m \u001b[0mimg\u001b[0m \u001b[0;34m=\u001b[0m \u001b[0mmpimg\u001b[0m\u001b[0;34m.\u001b[0m\u001b[0mimread\u001b[0m\u001b[0;34m(\u001b[0m\u001b[0;34m\"monimage.png\"\u001b[0m\u001b[0;34m)\u001b[0m\u001b[0;34m\u001b[0m\u001b[0;34m\u001b[0m\u001b[0m\n\u001b[0m\u001b[1;32m      9\u001b[0m \u001b[0mplt\u001b[0m\u001b[0;34m.\u001b[0m\u001b[0mimshow\u001b[0m\u001b[0;34m(\u001b[0m\u001b[0mimg\u001b[0m\u001b[0;34m)\u001b[0m\u001b[0;34m\u001b[0m\u001b[0;34m\u001b[0m\u001b[0m\n\u001b[1;32m     10\u001b[0m \u001b[0mplt\u001b[0m\u001b[0;34m.\u001b[0m\u001b[0mshow\u001b[0m\u001b[0;34m(\u001b[0m\u001b[0;34m)\u001b[0m\u001b[0;34m\u001b[0m\u001b[0;34m\u001b[0m\u001b[0m\n",
      "\u001b[0;31mNameError\u001b[0m: name 'mpimg' is not defined"
     ]
    }
   ],
   "source": [
    "print(\"Pour la dernière symétrie, nous regarderons l'atome situé en\",atome3)\n",
    "print(\"A x,y,z doivent correspondre\",symetrie_3.as_xyz_string(),\", on a donc comme matrice de rotation\")\n",
    "print(symetrie_3.rotation_matrix,\"\\net vecteur de translation\\n\",symetrie_3.translation_vector)\n",
    "print(\"En effectuant le produit matriciel et en y ajoutant le vecteur de translation on obtient \")\n",
    "print(np.dot(symetrie_3.rotation_matrix,atome3.T)+(np.array([symetrie_3.translation_vector])).T)\n",
    "print(\"Ce qui correspond bien à \",symetrie_3.operate((0.731,0.731,0)),\"donné par la fonction operate\")\n",
    "print(\"Celà se représente comme ceci:\")\n",
    "img = mpimg.imread(\"monimage.png\")\n",
    "plt.imshow(img)\n",
    "plt.show()"
   ]
  },
  {
   "cell_type": "code",
   "execution_count": null,
   "metadata": {},
   "outputs": [],
   "source": []
  }
 ],
 "metadata": {
  "kernelspec": {
   "display_name": "Python 3",
   "language": "python",
   "name": "python3"
  },
  "language_info": {
   "codemirror_mode": {
    "name": "ipython",
    "version": 3
   },
   "file_extension": ".py",
   "mimetype": "text/x-python",
   "name": "python",
   "nbconvert_exporter": "python",
   "pygments_lexer": "ipython3",
   "version": "3.6.8"
  }
 },
 "nbformat": 4,
 "nbformat_minor": 2
}
