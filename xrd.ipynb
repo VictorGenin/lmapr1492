{
 "cells": [
  {
   "cell_type": "code",
   "execution_count": 99,
   "metadata": {},
   "outputs": [
    {
     "data": {
      "image/png": "[encoded data removed]",
      "text/plain": [
       "<Figure size 432x288 with 1 Axes>"
      ]
     },
     "metadata": {
      "needs_background": "light"
     },
     "output_type": "display_data"
    },
    {
     "name": "stdout",
     "output_type": "stream",
     "text": [
      "Voici donc le diffractogramme, dont on cherche donc les 3 premiers pics\n"
     ]
    }
   ],
   "source": [
    "from pymatgen.ext.matproj import MPRester\n",
    "from pymatgen.analysis.diffraction import xrd \n",
    "from matplotlib import pyplot as plt\n",
    "import numpy as np\n",
    "with MPRester(\"AmIEJp5xndflZHbo32t\") as m:\n",
    "    \n",
    "    structure = m.get_structure_by_material_id(\"mp-19\")\n",
    "    xrCal = xrd.XRDCalculator()\n",
    "    graph = xrCal.get_pattern(structure)\n",
    "    \n",
    "    plt.stem(graph.x, graph.y, use_line_collection=True)\n",
    "    plt.title('Diffractogramme')\n",
    "    plt.xlabel('2θ')\n",
    "    plt.ylabel('Intensité échelonnée')\n",
    "    plt.show()\n",
    "    print('Voici donc le diffractogramme, dont on cherche donc les 3 premiers pics')"
   ]
  },
  {
   "cell_type": "code",
   "execution_count": 106,
   "metadata": {},
   "outputs": [
    {
     "name": "stdout",
     "output_type": "stream",
     "text": [
      "Coordonnées du premier maximum => x = 22.75538789312896 , y = 10.885907326451932\n",
      "     Indices hkl associés :  (1, 0, -1, 0) et multiplicité de 6\n",
      "Coordonnées du deuxième maximum => x = 27.28951589448032 , y = 100.00000000000001\n",
      "     Indices hkl associés :  (1, 0, -1, 1) et multiplicité de 12\n",
      "Coordonnées du troisième maximum => x = 37.97207138436081 , y = 41.27876870993831\n",
      "     Indices hkl associés :  (1, 0, -1, 2) et multiplicité de 12\n",
      "\n",
      "On a donc les 3 premiers pics qui correspondent aux angles d'incidence de 22.75, 27.29, 37.97 et respectivement\n",
      "aux plans (1, 0, -1, 0), (1, 0, -1, 1), (1, 0, -1, 2)  \n"
     ]
    }
   ],
   "source": [
    "print(\"Coordonnées du premier maximum => x =\", graph.x[0], \", y =\", graph.y[0])\n",
    "print(\"     Indices hkl associés : \",graph.hkls[0][0].get(\"hkl\"), \"et multiplicité de\",graph.hkls[0][0].get(\"multiplicity\") )\n",
    "\n",
    "print(\"Coordonnées du deuxième maximum => x =\", graph.x[1], \", y =\", graph.y[1])\n",
    "print(\"     Indices hkl associés : \",graph.hkls[1][0].get(\"hkl\"), \"et multiplicité de\",graph.hkls[1][0].get(\"multiplicity\") )\n",
    "\n",
    "print(\"Coordonnées du troisième maximum => x =\", graph.x[2], \", y =\", graph.y[2])\n",
    "print(\"     Indices hkl associés : \",graph.hkls[2][0].get(\"hkl\"), \"et multiplicité de\",graph.hkls[2][0].get(\"multiplicity\") )\n",
    "print(\"\\nOn a donc les 3 premiers pics qui correspondent aux angles d'incidence de 22.75, 27.29, 37.97 et respectivement\")\n",
    "print(\"aux plans (1, 0, -1, 0), (1, 0, -1, 1), (1, 0, -1, 2)  \")"
   ]
  },
  {
   "cell_type": "code",
   "execution_count": null,
   "metadata": {},
   "outputs": [],
   "source": []
  }
 ],
 "metadata": {
  "kernelspec": {
   "display_name": "Python 3",
   "language": "python",
   "name": "python3"
  },
  "language_info": {
   "codemirror_mode": {
    "name": "ipython",
    "version": 3
   },
   "file_extension": ".py",
   "mimetype": "text/x-python",
   "name": "python",
   "nbconvert_exporter": "python",
   "pygments_lexer": "ipython3",
   "version": "3.6.8"
  }
 },
 "nbformat": 4,
 "nbformat_minor": 2
}
